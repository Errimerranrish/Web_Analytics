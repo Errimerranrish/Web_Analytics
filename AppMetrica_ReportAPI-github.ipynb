{
 "cells": [
  {
   "cell_type": "markdown",
   "metadata": {
    "id": "98F_1nxlgH5f"
   },
   "source": [
    "# Common requirements"
   ]
  },
  {
   "cell_type": "code",
   "execution_count": 1,
   "metadata": {
    "colab": {
     "base_uri": "https://localhost:8080/"
    },
    "id": "S2lN4sw7Tp_O",
    "outputId": "16cbc752-279d-4a7b-cd3b-0a1d72469733"
   },
   "outputs": [],
   "source": [
    "# ! pip install clickhouse_connect\n",
    "# ! pip install pendulum\n",
    "# ! pip install pydantic"
   ]
  },
  {
   "cell_type": "code",
   "execution_count": 1,
   "metadata": {
    "id": "Nf0OdAwESoSE"
   },
   "outputs": [],
   "source": [
    "import requests\n",
    "import pandas as pd  # DataFrame\n",
    "import math\n",
    "import pendulum  # more convinient datetime\n",
    "import time\n",
    "import os\n",
    "import json\n",
    "\n",
    "\n",
    "import clickhouse_connect\n",
    "from clickhouse_connect.driver.tools import insert_file"
   ]
  },
  {
   "cell_type": "markdown",
   "metadata": {
    "id": "_SOduCWIryAZ"
   },
   "source": [
    "**Авторизационный токен будет действителен в течение года**. Необходимо обновить OAuth-токен **14.04.2025**\n",
    "\n",
    "Процедура получения нового токена - https://appmetrica.yandex.ru/docs/ru/mobile-api/intro/authorization\n",
    "\n",
    "Обновление токенов - https://yandex.ru/dev/id/doc/ru/tokens/refresh-client\n",
    "\n",
    "Запрос токена (общий) - \"https://oauth.yandex.ru/authorize?response_type=token&client_id=<идентификатор приложения>\"\n"
   ]
  },
  {
   "cell_type": "markdown",
   "metadata": {},
   "source": [
    "# AppMetrica"
   ]
  },
  {
   "cell_type": "code",
   "execution_count": 2,
   "metadata": {
    "colab": {
     "base_uri": "https://localhost:8080/"
    },
    "id": "4m5Xf8YTjT_0",
    "outputId": "1e490afc-222c-400d-cd17-e04c1778bd9d"
   },
   "outputs": [],
   "source": [
    "key = os.getenv(\"API_KEY\")"
   ]
  },
  {
   "cell_type": "markdown",
   "metadata": {
    "id": "Gvpln0cNG9Da"
   },
   "source": [
    "У этого API ограничение на выгрузку **1гб за раз**, поэтому за очень длительные промежутки надо будет делать несколько запросов.\n"
   ]
  },
  {
   "cell_type": "code",
   "execution_count": 3,
   "metadata": {
    "id": "CrhK5qBWdvQw"
   },
   "outputs": [],
   "source": [
    "\"\"\"\n",
    "    API Отчётов https://appmetrica.yandex.ru/docs/ru/mobile-api/api_v1/intro\n",
    "\"\"\"\n",
    "\n",
    "class AppMetricaReportAPI():\n",
    "    def __init__(self, metrics = \"ym:ec2:ecomRevenueFiatRUB\",\n",
    "               base_url = \"https://api.appmetrica.yandex.ru/stat/v1/data\",\n",
    "               start_date = pendulum.now('Europe/Moscow').subtract(days=1).to_date_string(),\n",
    "               end_date = 'yesterday',\n",
    "               dimensions='ym:ec2:ecomOrderId,ym:ec2:regionCity',  # ym:ec2:regionCountry\n",
    "               filters = \"ym:ec2:ecomOrderId!=null AND ym:ec2:ecomOrderId!='null'\",\n",
    "               offset= 1,\n",
    "               limit= 100000,\n",
    "               include_undefined = 'true',\n",
    "               accuracy = 1):\n",
    "\n",
    "        self.key = \"Add your key here, it's empty by default\"\n",
    "        self.application_id = '2398688'\n",
    "        self.base_url = base_url\n",
    "        self.start_date = start_date\n",
    "        self.end_date = end_date    # принимает не только даты, но и ключевые слова \"today\" и \"yesterday\"\n",
    "        self.metrics = metrics\n",
    "        self.dimensions=dimensions\n",
    "        self.filters = filters\n",
    "        self.sort=f'-{self.metrics}'\n",
    "        self.offset= offset\n",
    "        self.limit= limit\n",
    "        self.include_undefined = include_undefined # Включает в ответ строки, для которых значения группировок (group) не определены. Влияет только на первую группировку. По умолчанию выключено.\n",
    "        self.accuracy = accuracy\n",
    "\n",
    "    def _is_period_set(self):\n",
    "        if not hasattr(self,'start_date'):\n",
    "            self._set_period()\n",
    "\n",
    "        return True\n",
    "\n",
    "\n",
    "    def _set_period(self):\n",
    "        self.start_date = pendulum.now('Europe/Moscow').subtract(days=1).to_date_string()\n",
    "\n",
    "\n",
    "    def _set_report(self):\n",
    "        if not hasattr(self,'report_data'):\n",
    "          self.report()\n",
    "\n",
    "        return True\n",
    "\n",
    "\n",
    "    def report(self):\n",
    "\n",
    "        # функция запросов к метрике\n",
    "        def appmetrica_ecommerce_request(base_url,application_id: int, key: str, metrics: str, start_date: str,\n",
    "                          end_date: str, dimensions:str, filters:str, sort:str, offset:int,\n",
    "                          limit:int, include_undefined:str, accuracy:int):\n",
    "            \n",
    "            response = requests.get(\n",
    "                        url=base_url,\n",
    "                        headers= {'Authorization': f\"OAuth {key}\"},\n",
    "                        params={\n",
    "                            'id' : application_id,\n",
    "                            'date1': start_date,\n",
    "                            'date2': end_date,\n",
    "                            'metrics': metrics,\n",
    "                            'dimensions': dimensions,\n",
    "                            'filters': filters,\n",
    "                            'sort': sort,\n",
    "                            'offset': offset,\n",
    "                            'limit': limit,\n",
    "                            'include_undefined': include_undefined,\n",
    "                            'accuracy': accuracy\n",
    "                        }\n",
    "                                      )\n",
    "            self.last_response = response\n",
    "\n",
    "            return response.json()\n",
    "\n",
    "\n",
    "        # функция для дозаписи, если первый запрос в основной функции оказался меньше чем всего данных\n",
    "        def _get_full_responce(num_of_iter):\n",
    "\n",
    "            data = pd.DataFrame(columns = ['dimensions','metrics'])\n",
    "\n",
    "            for i in range(1, num_of_iter+1):\n",
    "\n",
    "                offset_new = self.offset + self.limit * i\n",
    "\n",
    "                data2 = appmetrica_ecommerce_request(self.base_url, self.application_id, self.key, self.metrics,\n",
    "                                                self.start_date, self.end_date,\n",
    "                                                self.dimensions, self.filters, self.sort, offset_new,\n",
    "                                                self.limit, self.include_undefined,\n",
    "                                                self.accuracy)\n",
    "            try:\n",
    "                data = pd.concat([data, pd.DataFrame(data2['data'])], ignore_index=True)\n",
    "\n",
    "            except:\n",
    "                print(\"Error occurred in _get_full_responce function\")\n",
    "                return(data)\n",
    "\n",
    "            return(data)\n",
    "\n",
    "\n",
    "\n",
    "        # приведение датафрейма в порядок\n",
    "        def _pretty_report_data(data):\n",
    "            data['transactionId'] = '-'\n",
    "            data['city'] = '-'\n",
    "\n",
    "            for j in range(len(data['metrics'][0])):\n",
    "                data[f'metrics{j}']='-'\n",
    "\n",
    "            for i in range(len(data)):\n",
    "                \n",
    "                data['transactionId'][i] = data['dimensions'][i][0]['name']\n",
    "                data['city'][i] = data['dimensions'][i][1]['name']\n",
    "\n",
    "                for j in range(len(data['metrics'][0])):\n",
    "                    data[f'metrics{j}'][i] = data['metrics'][i][j]\n",
    "\n",
    "            data.drop(columns=['dimensions','metrics'],inplace=True)\n",
    "\n",
    "            return data\n",
    "\n",
    "        # основная функция запроса таблицы отчёта у метрики\n",
    "        data = appmetrica_ecommerce_request(self.base_url, self.application_id, self.key, self.metrics,\n",
    "                                            self.start_date, self.end_date,\n",
    "                                            self.dimensions, self.filters, self.sort, self.offset,\n",
    "                                            self.limit, self.include_undefined,\n",
    "                                            self.accuracy)\n",
    "        # проверка на ошибки\n",
    "        try:\n",
    "            \n",
    "            self.report_data = _pretty_report_data(pd.DataFrame(data['data']))\n",
    "\n",
    "            if data['total_rows'] > len(self.report_data):\n",
    "\n",
    "                num_of_iterations = math.ceil((data['total_rows'] - len(self.report_data)) / self.limit)\n",
    "\n",
    "                additional = _pretty_report_data(_get_full_responce(num_of_iterations))\n",
    "\n",
    "                self.report_data = pd.concat([self.report_data, additional], ignore_index=True)\n",
    "\n",
    "        except:\n",
    "            if not hasattr(self,'report_data'):\n",
    "                self.report_data = data\n",
    "\n",
    "            print(\"Error occurred in report function\")\n",
    "\n"
   ]
  },
  {
   "cell_type": "code",
   "execution_count": 10,
   "metadata": {
    "colab": {
     "base_uri": "https://localhost:8080/"
    },
    "id": "jLdkcmvVDjap",
    "outputId": "ac81d3d6-fd64-4961-c349-f2ccc42f4505"
   },
   "outputs": [
    {
     "name": "stdout",
     "output_type": "stream",
     "text": [
      "total_rows 35452\n"
     ]
    },
    {
     "data": {
      "text/plain": [
       "True"
      ]
     },
     "execution_count": 10,
     "metadata": {},
     "output_type": "execute_result"
    }
   ],
   "source": [
    "rep = AppMetricaReportAPI(os.getenv(\"API_KEY\"))\n",
    "rep._set_report()"
   ]
  },
  {
   "cell_type": "code",
   "execution_count": 11,
   "metadata": {
    "colab": {
     "base_uri": "https://localhost:8080/",
     "height": 423
    },
    "id": "uwj2mXoKsv4f",
    "outputId": "16d6b1f4-a6c5-45a1-ef88-2f9d9f3b4a45"
   },
   "outputs": [],
   "source": [
    "data = rep.report_data\n",
    "data.rename(columns={\"metrics0\": \"ecom_revenue\"},inplace=True)"
   ]
  },
  {
   "cell_type": "markdown",
   "metadata": {},
   "source": [
    "# ClickHouse"
   ]
  },
  {
   "cell_type": "code",
   "execution_count": 8,
   "metadata": {},
   "outputs": [],
   "source": [
    "# authorization at ClickHouse\n",
    "HOST= os.getenv(\"HOST\")\n",
    "PORT= os.getenv(\"PORT\")\n",
    "USERNAME= os.getenv(\"USERNAME\")\n",
    "PASSWORD= os.getenv(\"PASSWORD\")\n",
    "\n",
    "client = clickhouse_connect.get_client(host=HOST, port=PORT, username=USERNAME, password=PASSWORD)"
   ]
  },
  {
   "cell_type": "code",
   "execution_count": 15,
   "metadata": {},
   "outputs": [
    {
     "data": {
      "text/plain": [
       "<clickhouse_connect.driver.summary.QuerySummary at 0x2524f438b90>"
      ]
     },
     "execution_count": 15,
     "metadata": {},
     "output_type": "execute_result"
    }
   ],
   "source": [
    "client.insert_df(\"`temporary`.a_ostrovskaia_appmetrica_transactions_w_city\", data)"
   ]
  },
  {
   "cell_type": "code",
   "execution_count": null,
   "metadata": {},
   "outputs": [],
   "source": []
  }
 ],
 "metadata": {
  "colab": {
   "provenance": []
  },
  "kernelspec": {
   "display_name": "Python 3 (ipykernel)",
   "language": "python",
   "name": "python3"
  },
  "language_info": {
   "codemirror_mode": {
    "name": "ipython",
    "version": 3
   },
   "file_extension": ".py",
   "mimetype": "text/x-python",
   "name": "python",
   "nbconvert_exporter": "python",
   "pygments_lexer": "ipython3",
   "version": "3.11.5"
  }
 },
 "nbformat": 4,
 "nbformat_minor": 1
}
